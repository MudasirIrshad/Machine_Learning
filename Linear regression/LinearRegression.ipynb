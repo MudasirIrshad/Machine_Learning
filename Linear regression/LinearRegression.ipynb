{
 "cells": [
  {
   "cell_type": "markdown",
   "id": "e5d5262d",
   "metadata": {},
   "source": [
    "# ASSIGNMENT 1"
   ]
  },
  {
   "cell_type": "code",
   "execution_count": 1,
   "id": "3cebc4b1",
   "metadata": {},
   "outputs": [],
   "source": [
    "import pandas as pd\n",
    "import numpy as np\n",
    "import matplotlib.pyplot as plt"
   ]
  },
  {
   "cell_type": "code",
   "execution_count": 2,
   "id": "da376ba1",
   "metadata": {},
   "outputs": [
    {
     "data": {
      "text/plain": [
       "(array([[1.9],\n",
       "        [2.2],\n",
       "        [3.3],\n",
       "        [4.5],\n",
       "        [5.1],\n",
       "        [6.2],\n",
       "        [7. ]]),\n",
       " array([[22],\n",
       "        [24],\n",
       "        [23],\n",
       "        [25],\n",
       "        [27],\n",
       "        [26],\n",
       "        [28]], dtype=int64))"
      ]
     },
     "execution_count": 2,
     "metadata": {},
     "output_type": "execute_result"
    }
   ],
   "source": [
    "df=pd.DataFrame({\n",
    "    'SQUARE_FT':[1.9,2.2,3.3,4.5,5.1,6.2,7.0],\n",
    "    'Price':[22,24,23,25,27,26,28]\n",
    "})\n",
    "x=np.array(df[['SQUARE_FT']])\n",
    "y=np.array(df[['Price']])\n",
    "x,y"
   ]
  },
  {
   "cell_type": "code",
   "execution_count": 3,
   "id": "ed2585fc",
   "metadata": {},
   "outputs": [],
   "source": [
    "x_mean=np.mean(x)\n",
    "y_mean=np.mean(y)"
   ]
  },
  {
   "cell_type": "code",
   "execution_count": 4,
   "id": "ac8a0ba0",
   "metadata": {},
   "outputs": [
    {
     "data": {
      "text/plain": [
       "array([-2.41428571, -2.11428571, -1.01428571,  0.18571429,  0.78571429,\n",
       "        1.88571429,  2.68571429])"
      ]
     },
     "execution_count": 4,
     "metadata": {},
     "output_type": "execute_result"
    }
   ],
   "source": [
    "x_xmean=[]\n",
    "for i in x:\n",
    "        item=i-x_mean\n",
    "        x_xmean.append(item)\n",
    "x_xmean=np.concatenate(x_xmean)\n",
    "x_xmean"
   ]
  },
  {
   "cell_type": "code",
   "execution_count": 5,
   "id": "bc4c5a05",
   "metadata": {},
   "outputs": [
    {
     "data": {
      "text/plain": [
       "array([-3., -1., -2.,  0.,  2.,  1.,  3.])"
      ]
     },
     "execution_count": 5,
     "metadata": {},
     "output_type": "execute_result"
    }
   ],
   "source": [
    "y_ymean=[]\n",
    "for i in y:\n",
    "        item=i-y_mean\n",
    "        y_ymean.append(item)\n",
    "y_ymean=np.concatenate(y_ymean)\n",
    "y_ymean"
   ]
  },
  {
   "cell_type": "code",
   "execution_count": 6,
   "id": "16c8194d",
   "metadata": {},
   "outputs": [
    {
     "data": {
      "text/plain": [
       "1.01"
      ]
     },
     "execution_count": 6,
     "metadata": {},
     "output_type": "execute_result"
    }
   ],
   "source": [
    "x_y_mul=y_ymean*x_xmean\n",
    "x_y_mul\n",
    "submission=np.sum(x_y_mul)\n",
    "submission=round(submission,2)\n",
    "b=submission/(np.sum(x_xmean*x_xmean))\n",
    "b=round(b,2)\n",
    "b"
   ]
  },
  {
   "cell_type": "code",
   "execution_count": 7,
   "id": "fd0f3ea9",
   "metadata": {},
   "outputs": [
    {
     "data": {
      "text/plain": [
       "20.64257142857143"
      ]
     },
     "execution_count": 7,
     "metadata": {},
     "output_type": "execute_result"
    }
   ],
   "source": [
    "#FINDING a OF LINE EQUATION y^=a+bx^ ---> a=y^-bx^\n",
    "\n",
    "a= y_mean - (b*x_mean)\n",
    "a"
   ]
  },
  {
   "cell_type": "code",
   "execution_count": 8,
   "id": "1fbbfb0a",
   "metadata": {},
   "outputs": [
    {
     "data": {
      "text/plain": [
       "0    22.561571\n",
       "1    22.864571\n",
       "2    23.975571\n",
       "3    25.187571\n",
       "4    25.793571\n",
       "5    26.904571\n",
       "6    27.712571\n",
       "Name: SQUARE_FT, dtype: float64"
      ]
     },
     "execution_count": 8,
     "metadata": {},
     "output_type": "execute_result"
    }
   ],
   "source": [
    "new_y=a+(b*df[\"SQUARE_FT\"])\n",
    "new_y"
   ]
  },
  {
   "cell_type": "code",
   "execution_count": 9,
   "id": "93ccb8f4",
   "metadata": {},
   "outputs": [
    {
     "data": {
      "text/plain": [
       "[<matplotlib.lines.Line2D at 0x218be652250>]"
      ]
     },
     "execution_count": 9,
     "metadata": {},
     "output_type": "execute_result"
    },
    {
     "data": {
      "image/png": "[encoded data removed]",
      "text/plain": [
       "<Figure size 640x480 with 1 Axes>"
      ]
     },
     "metadata": {},
     "output_type": "display_data"
    }
   ],
   "source": [
    "plt.xlabel('area')\n",
    "plt.ylabel('price')\n",
    "plt.scatter(x,y)\n",
    "plt.plot(x,new_y,\"red\")"
   ]
  }
 ],
 "metadata": {
  "kernelspec": {
   "display_name": "Python 3 (ipykernel)",
   "language": "python",
   "name": "python3"
  },
  "language_info": {
   "codemirror_mode": {
    "name": "ipython",
    "version": 3
   },
   "file_extension": ".py",
   "mimetype": "text/x-python",
   "name": "python",
   "nbconvert_exporter": "python",
   "pygments_lexer": "ipython3",
   "version": "3.11.4"
  }
 },
 "nbformat": 4,
 "nbformat_minor": 5
}
